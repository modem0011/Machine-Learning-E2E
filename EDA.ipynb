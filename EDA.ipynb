{
  "nbformat": 4,
  "nbformat_minor": 0,
  "metadata": {
    "colab": {
      "name": "EDA.ipynb",
      "provenance": [],
      "authorship_tag": "ABX9TyOktAXun+pLG5jsjY6qhme9",
      "include_colab_link": true
    },
    "kernelspec": {
      "name": "python3",
      "display_name": "Python 3"
    }
  },
  "cells": [
    {
      "cell_type": "markdown",
      "metadata": {
        "id": "view-in-github",
        "colab_type": "text"
      },
      "source": [
        "<a href=\"https://colab.research.google.com/github/nmodem2k/Machine-Learning-E2E/blob/master/EDA.ipynb\" target=\"_parent\"><img src=\"https://colab.research.google.com/assets/colab-badge.svg\" alt=\"Open In Colab\"/></a>"
      ]
    },
    {
      "cell_type": "markdown",
      "metadata": {
        "id": "6rCM7Ll4-34l",
        "colab_type": "text"
      },
      "source": [
        "1. sourcing\n",
        "   * public\n",
        "     * awesome public datasets\n",
        "     * data.gov.in\n",
        "   * private\n",
        "2. Data Cleaning\n",
        "   * Fix rows and colums\n",
        "     * delete incorrect rows\n",
        "     * add column name if missing\n",
        "     * rename column names \n",
        "     * delete unnecessary columns\n",
        "   * Fix missing values\n",
        "     * remove row\n",
        "     * remove column if particular column have more missing fields\n",
        "     * replace with mean,median\n",
        "   * Standardise values\n",
        "     * all data should be in same range (take care of  outliers)\n",
        "\n",
        "   * Fix invalid values\n",
        "   * Text alignment\n",
        "\n",
        "3. Univariate analysis - only one column\n",
        "   * unorder categorical -rank frequency plot\n",
        "   * order categorical   -Histogram\n",
        "   * numerical data      - mean,median,mode,variance,Inter Quartile range,boxplot\n",
        "4. Bivariate analysis  - two columns\n",
        "   * Numeric-CoRelation\n",
        "5. Derived metrics     - deriving newcolums form existing columns\n",
        "   * Type driven matrix  -Nominal,ordinal,interval,ratio\n",
        "   * bussiness driven matrix\n",
        "   * data driven matrix\n",
        "\n",
        "\n"
      ]
    },
    {
      "cell_type": "code",
      "metadata": {
        "id": "f2X7oU4YcsOn",
        "colab_type": "code",
        "colab": {}
      },
      "source": [
        ""
      ],
      "execution_count": null,
      "outputs": []
    }
  ]
}